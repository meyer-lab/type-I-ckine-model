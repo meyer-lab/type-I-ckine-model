{
 "metadata": {
  "language_info": {
   "codemirror_mode": {
    "name": "ipython",
    "version": 3
   },
   "file_extension": ".py",
   "mimetype": "text/x-python",
   "name": "python",
   "nbconvert_exporter": "python",
   "pygments_lexer": "ipython3",
   "version": "3.8.6-final"
  },
  "orig_nbformat": 2,
  "kernelspec": {
   "name": "python3",
   "display_name": "Python 3",
   "language": "python"
  }
 },
 "nbformat": 4,
 "nbformat_minor": 2,
 "cells": [
  {
   "cell_type": "code",
   "execution_count": 1,
   "metadata": {},
   "outputs": [],
   "source": [
    "from imports import importData\n",
    "from sklearn.preprocessing import OneHotEncoder\n",
    "from sklearn.model_selection import train_test_split\n",
    "from sklearn.gaussian_process import GaussianProcessRegressor\n",
    "from sklearn.gaussian_process.kernels import Matern\n",
    "import time\n",
    "import numpy as np\n",
    "import pandas as pd\n",
    "\n",
    "def getGPData(combCD4=True):\n",
    "    #import data\n",
    "    fullData = importData()\n",
    "\n",
    "    HotEnc = OneHotEncoder()\n",
    "    HotEnc.fit(fullData[['Cell']])\n",
    "    HotEncName = HotEnc.transform(fullData[['Cell']]).toarray()\n",
    "    HotEncName = pd.DataFrame(HotEncName)\n",
    "\n",
    "    xData = fullData[[\"Dose\",\"Time\",\"IL2RaKD\",\"IL2RBGKD\",\"IL15Ra\",\"IL2Ra\",\"IL2Rb\",\"IL7Ra\",\"gc\",\"Bivalent\"]]\n",
    "    xData[['Dose', 'IL2RaKD', 'IL2RBGKD']] = np.log10(xData[['Dose', 'IL2RaKD', 'IL2RBGKD']])\n",
    "\n",
    "    yData = fullData[['Mean']]\n",
    "\n",
    "    cellNames = ['CD8','NK','Thelper','Treg'] \n",
    "    for i, name in enumerate(cellNames): #Adds columns of each cell type w/ hot encoding values\n",
    "        xData[name]=HotEncName.iloc[:,i]\n",
    "\n",
    "    if combCD4 == True:\n",
    "        for i in range(len(xData[['Treg']])):  #For every value in Treg Column\n",
    "            if xData.at[i,'Treg'] == 1: #If it is equal to 1\n",
    "                xData.at[i,'Thelper'] = 1  #Set Thelper equal to 1 at this index\n",
    "        \n",
    "        xData = xData.rename(columns={'Thelper':'CD4'})\n",
    "        xData = xData.drop(columns=[\"Treg\"])\n",
    "    \n",
    "    return xData, yData, fullData"
   ]
  },
  {
   "cell_type": "code",
   "execution_count": 2,
   "metadata": {},
   "outputs": [],
   "source": [
    "xData,yData,fData = getGPData()"
   ]
  },
  {
   "cell_type": "code",
   "execution_count": 12,
   "metadata": {},
   "outputs": [],
   "source": [
    "def gaussianProcess(xData, yData, fData): # function gaussianProcess(X, y::Vector)\n",
    "\n",
    "    kernel = 1.0 * Matern(length_scale=1.0, nu=1.5) #     kern = RQ(1.0, 0.0, 0.0)\n",
    "    gp = GaussianProcessRegressor(kernel=kernel, n_restarts_optimizer=9)\n",
    "    #use train_test_split to take random selection\n",
    "    X_train, X_test, y_train, y_test = train_test_split(xData, yData, test_size=0.25, random_state=0)\n",
    "    return gp"
   ]
  },
  {
   "cell_type": "code",
   "execution_count": 15,
   "metadata": {},
   "outputs": [],
   "source": [
    "def gaussianTest(xData,yData,testSize):\n",
    "    kernel = 1.0 * Matern(length_scale=1.0, nu=1.5) #     kern = RQ(1.0, 0.0, 0.0)\n",
    "    gp = GaussianProcessRegressor(kernel=kernel, n_restarts_optimizer=9)\n",
    "    #use train_test_split to take random selection\n",
    "    X_train, X_test, y_train, y_test = train_test_split(xData, yData, test_size=testSize, random_state=0)\n",
    "    \n",
    "    start_time = time.time()\n",
    "    gp.fit(X_train,y_train)\n",
    "    end_time = (time.time() - start_time)\n",
    "    print(\"Time: \" + str(end_time))\n",
    "\n",
    "    print(\"R^2: \" + str(gp.score(X_test, y_test)))\n",
    "    return"
   ]
  },
  {
   "cell_type": "code",
   "execution_count": 17,
   "metadata": {},
   "outputs": [
    {
     "output_type": "stream",
     "name": "stdout",
     "text": [
      "Time: 67.07764315605164\nR^2: 0.5917142430684214\n"
     ]
    },
    {
     "output_type": "execute_result",
     "data": {
      "text/plain": [
       "GaussianProcessRegressor(kernel=1**2 * Matern(length_scale=1, nu=1.5),\n",
       "                         n_restarts_optimizer=9)"
      ]
     },
     "metadata": {},
     "execution_count": 17
    }
   ],
   "source": [
    "gaussianTest(xData,yData,0.25)\n",
    "\n",
    "#The train_test_split(X, Y) function from sklearn makes sure this is true, but without seeing that it's tempting to use a method which may mismatch X and Y values."
   ]
  },
  {
   "cell_type": "code",
   "execution_count": null,
   "metadata": {},
   "outputs": [],
   "source": []
  }
 ]
}