{
 "metadata": {
  "language_info": {
   "codemirror_mode": {
    "name": "ipython",
    "version": 3
   },
   "file_extension": ".py",
   "mimetype": "text/x-python",
   "name": "python",
   "nbconvert_exporter": "python",
   "pygments_lexer": "ipython3",
   "version": "3.8.6-final"
  },
  "orig_nbformat": 2,
  "kernelspec": {
   "name": "python3",
   "display_name": "Python 3",
   "language": "python"
  }
 },
 "nbformat": 4,
 "nbformat_minor": 2,
 "cells": [
  {
   "cell_type": "code",
   "execution_count": 11,
   "metadata": {},
   "outputs": [],
   "source": [
    "from imports import importData\n",
    "from sklearn.preprocessing import OneHotEncoder\n",
    "import numpy as np\n",
    "import pandas as pd\n",
    "\n",
    "def getGPData(combCD4=True):\n",
    "    #import data\n",
    "    fullData = importData()\n",
    "\n",
    "    HotEnc = OneHotEncoder()\n",
    "    HotEnc.fit(fullData[['Cell']])\n",
    "    HotEncName = HotEnc.transform(fullData[['Cell']]).toarray()\n",
    "    HotEncName = pd.DataFrame(HotEncName)\n",
    "\n",
    "    xData = fullData[[\"Dose\",\"Time\",\"IL2RaKD\",\"IL2RBGKD\",\"IL15Ra\",\"IL2Ra\",\"IL2Rb\",\"IL7Ra\",\"gc\",\"Bivalent\"]]\n",
    "    xData[['Dose', 'IL2RaKD', 'IL2RBGKD']] = np.log10(xData[['Dose', 'IL2RaKD', 'IL2RBGKD']])\n",
    "\n",
    "    yData = fullData[['Mean']]\n",
    "\n",
    "    cellNames = ['CD8','NK','Thelper','Treg'] \n",
    "    for i, name in enumerate(cellNames): #Adds columns of each cell type w/ hot encoding values\n",
    "        xData[name]=HotEncName.iloc[:,i]\n",
    "\n",
    "    if combCD4 == True:\n",
    "        for i in range(len(xData[['Treg']])):  #For every value in Treg Column\n",
    "            if xData.at[i,'Treg'] == 1: #If it is equal to 1\n",
    "                xData.at[i,'Thelper'] = 1  #Set Thelper equal to 1 at this index\n",
    "        \n",
    "        xData = xData.rename(columns={'Thelper':'CD4'})\n",
    "        xData = xData.drop(columns=[\"Treg\"])\n",
    "    \n",
    "    return xData, yData, fullData"
   ]
  },
  {
   "cell_type": "code",
   "execution_count": 13,
   "metadata": {},
   "outputs": [
    {
     "output_type": "stream",
     "name": "stdout",
     "text": [
      "          Dose  Time   IL2RaKD  IL2RBGKD IL15Ra    IL2Ra    IL2Rb    IL7Ra  \\\n0     1.924279   4.0 -0.721246  0.723948     -6  3.56178  3.37113  3.53939   \n1     1.447158   4.0 -0.721246  0.723948     -6  3.56178  3.37113  3.53939   \n2     0.970037   4.0 -0.721246  0.723948     -6  3.56178  3.37113  3.53939   \n3     0.492900   4.0 -0.721246  0.723948     -6  3.56178  3.37113  3.53939   \n4     0.015794   4.0 -0.721246  0.723948     -6  3.56178  3.37113  3.53939   \n...        ...   ...       ...       ...    ...      ...      ...      ...   \n2659 -1.415567   0.5  0.004321  1.380512     -6  2.72089  3.53632  4.30494   \n2660 -1.892688   0.5  0.004321  1.380512     -6  2.72089  3.53632  4.30494   \n2661 -2.369776   0.5  0.004321  1.380512     -6  2.72089  3.53632  4.30494   \n2662 -2.846795   0.5  0.004321  1.380512     -6  2.72089  3.53632  4.30494   \n2663 -3.324222   0.5  0.004321  1.380512     -6  2.72089  3.53632  4.30494   \n\n           gc  Bivalent  CD8   NK  CD4  \n0     3.83686       1.0  0.0  0.0  1.0  \n1     3.83686       1.0  0.0  0.0  1.0  \n2     3.83686       1.0  0.0  0.0  1.0  \n3     3.83686       1.0  0.0  0.0  1.0  \n4     3.83686       1.0  0.0  0.0  1.0  \n...       ...       ...  ...  ...  ...  \n2659  3.80574       0.0  1.0  0.0  0.0  \n2660  3.80574       0.0  1.0  0.0  0.0  \n2661  3.80574       0.0  1.0  0.0  0.0  \n2662  3.80574       0.0  1.0  0.0  0.0  \n2663  3.80574       0.0  1.0  0.0  0.0  \n\n[2664 rows x 13 columns]\n"
     ]
    }
   ],
   "source": [
    "xDat,yDat,fDat = getGPData()\n",
    "print(xDat)\n",
    "\n",
    "\n",
    "\n",
    "\n"
   ]
  },
  {
   "cell_type": "code",
   "execution_count": 2,
   "metadata": {},
   "outputs": [],
   "source": [
    "def cellHotEnc(cellType):\n",
    "    if cellType == \"CD8\":\n",
    "        return [1, 0, 0]\n",
    "    elif cellType == \"NK\":\n",
    "        return [0, 1, 0]\n",
    "    elif cellType == \"Thelper\":\n",
    "        return [0, 0, 1]\n",
    "    elif cellType == \"Treg\":\n",
    "        return [0, 0, 1]\n",
    "    else:\n",
    "        print(\"Unrecognized Cell Type\")\n",
    "    return"
   ]
  },
  {
   "cell_type": "code",
   "execution_count": null,
   "metadata": {},
   "outputs": [],
   "source": [
    "#The train_test_split(X, Y) function from sklearn makes sure this is true, but without seeing that it's tempting to use a method which may mismatch X and Y values."
   ]
  }
 ]
}